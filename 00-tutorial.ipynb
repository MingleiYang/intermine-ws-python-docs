{
 "cells": [
  {
   "cell_type": "markdown",
   "metadata": {},
   "source": [
    "# Intermine-Python: Tutorial 00- Interaction with Registry"
   ]
  },
  {
   "cell_type": "markdown",
   "metadata": {},
   "source": [
    "The following functions can be used to optain some useful information about a mine or an organism. Assuming you are inside intermine-ws-python folder: "
   ]
  },
  {
   "cell_type": "markdown",
   "metadata": {},
   "source": [
    "`getMines(organism)` fetches the mine(s) of a particular organism, say 'D. melanogaster'."
   ]
  },
  {
   "cell_type": "code",
   "execution_count": 1,
   "metadata": {},
   "outputs": [
    {
     "name": "stdout",
     "output_type": "stream",
     "text": [
      "FawMine\n",
      "FlyMine\n",
      "LocustMine\n",
      "XenMine\n"
     ]
    }
   ],
   "source": [
    "from intermine import registry\n",
    "registry.getMines(\"D. melanogaster\")"
   ]
  },
  {
   "cell_type": "markdown",
   "metadata": {},
   "source": [
    "FlyMine<br/>\n",
    "FlyMine Beta<br/>\n",
    "XenMine"
   ]
  },
  {
   "cell_type": "markdown",
   "metadata": {},
   "source": [
    "Now that we have the mines, we can use `getInfo(mine)` to fetch all the information about a particular mine ie its description, version, organisms associated etc. Suppose we want to know more about flymine, here's what we do: "
   ]
  },
  {
   "cell_type": "code",
   "execution_count": 2,
   "metadata": {},
   "outputs": [
    {
     "name": "stdout",
     "output_type": "stream",
     "text": [
      "Description:  An integrated database for Drosophila genomics\n",
      "URL: https://www.flymine.org/flymine\n",
      "API Version: 30\n",
      "Release Version: 49 2020 February\n",
      "InterMine Version: 4.1.3\n",
      "Organisms: \n",
      "D. melanogaster\n",
      "Neighbours: \n",
      "Animals\n"
     ]
    }
   ],
   "source": [
    "registry.getInfo(\"flymine\")"
   ]
  },
  {
   "cell_type": "markdown",
   "metadata": {},
   "source": [
    "Description: An integrated database for Drosophila genomics<br/>\n",
    "URL: http://www.flymine.org/flymine<br/>\n",
    "API Version: 25<br/>\n",
    "Release Version: 45.1 2017 August<br/>\n",
    "InterMine Version: 1.8.5<br/>\n",
    "Organisms: <br/>\n",
    "D. melanogaster<br/>\n",
    "Neighbours: <br/>\n",
    "MODs<br/>\n"
   ]
  },
  {
   "cell_type": "markdown",
   "metadata": {},
   "source": [
    "Now that I am very interested after viewing information about 'flymine', `getData(mine)` can be used to extract the data sets corresponding to it: "
   ]
  },
  {
   "cell_type": "code",
   "execution_count": 3,
   "metadata": {},
   "outputs": [
    {
     "name": "stdout",
     "output_type": "stream",
     "text": [
      "Name: Affymetrix array: GeneChip Drosophila Genome 2.0 Array\n",
      "Name: Affymetrix array: GeneChip Drosophila Genome Array\n",
      "Name: Alleles and phenotypes\n",
      "Name: Artificial deletions\n",
      "Name: BDGP cDNA clone data set\n",
      "Name: BDGP in situ data set\n",
      "Name: BioGRID interaction data set\n",
      "Name: Disease Ontology\n",
      "Name: Disease models\n",
      "Name: Drosophila species orthologues and paralogues\n",
      "Name: E-FLYC-6\n",
      "Name: Fly Anatomy Ontology\n",
      "Name: Fly Development Ontology\n",
      "Name: FlyAtlas\n",
      "Name: FlyBase Contolled Vocabulary\n",
      "Name: FlyBase Controlled Vocabulary\n",
      "Name: FlyBase PubMed to gene mapping\n",
      "Name: FlyBase data set for Drosophila ananassae\n",
      "Name: FlyBase data set for Drosophila erecta\n",
      "Name: FlyBase data set for Drosophila grimshawi\n",
      "Name: FlyBase data set for Drosophila melanogaster\n",
      "Name: FlyBase data set for Drosophila mojavensis\n",
      "Name: FlyBase data set for Drosophila persimilis\n",
      "Name: FlyBase data set for Drosophila pseudoobscura pseudoobscura\n",
      "Name: FlyBase data set for Drosophila sechellia\n",
      "Name: FlyBase data set for Drosophila simulans\n",
      "Name: FlyBase data set for Drosophila virilis\n",
      "Name: FlyBase data set for Drosophila willistoni\n",
      "Name: FlyBase data set for Drosophila yakuba\n",
      "Name: FlyBase fasta data set for Drosophila ananassae\n",
      "Name: FlyBase fasta data set for Drosophila melanogaster\n",
      "Name: FlyBase fasta data set for Drosophila pseudoobscura pseudoobscura\n",
      "Name: FlyBase fasta data set for Drosophila simulans\n",
      "Name: FlyBase fasta data set for Drosophila virilis\n",
      "Name: FlyMine intergenic regions\n",
      "Name: GO\n",
      "Name: GO Annotation data set\n",
      "Name: GO Annotation for Drosophila melanogaster\n",
      "Name: HGNC identifiers\n",
      "Name: HomoloGene homology predictions\n",
      "Name: Human gene identifiers\n",
      "Name: INDAC long oligo data set\n",
      "Name: IntAct molecular interactions\n",
      "Name: InterPro data set\n",
      "Name: InterPro domain GO annotations\n",
      "Name: KEGG pathways data set\n",
      "Name: Mouse gene identifiers\n",
      "Name: Mouse identifiers\n",
      "Name: NCBI Entrez Gene identifiers\n",
      "Name: NCBI PubMed to gene mapping\n",
      "Name: OMIM diseases\n",
      "Name: PSI Molecular Interactions\n",
      "Name: Panther orthologue and paralogue predictions\n",
      "Name: PubMed to gene mapping\n",
      "Name: REDfly Drosophila transcription factor binding sites\n",
      "Name: REDfly Drosophila transcriptional cis-regulatory modules\n",
      "Name: RNAi screen phenotypes\n",
      "Name: Rat gene identifiers\n",
      "Name: Reactome pathways data set\n",
      "Name: Sequence Ontology\n",
      "Name: Swiss-Prot data set\n",
      "Name: The Gene Ontology\n",
      "Name: The Sequence Ontology\n",
      "Name: The developmental transcriptome of Drosophila melanogaster.\n",
      "Name: TrEMBL data set\n",
      "Name: TreeFam data set\n",
      "Name: UniProt data set\n",
      "Name: Uniprot data set\n",
      "Name: WormBase gene identifiers\n",
      "Name: Wormbase gene identifiers\n",
      "Name: fly-Fish data set\n",
      "Name: miRBase Targets\n",
      "Name: microRNA Targets\n"
     ]
    }
   ],
   "source": [
    "registry.getData(\"flymine\")"
   ]
  },
  {
   "cell_type": "markdown",
   "metadata": {},
   "source": [
    "Name: Affymetrix array: Drosophila1<br/>\n",
    "Name: Affymetrix array: Drosophila2<br/>\n",
    "Name: Affymetrix array: GeneChip Drosophila Genome 2.0 Array<br/>\n",
    "Name: Affymetrix array: GeneChip Drosophila Genome Array<br/>\n",
    "Name: Anoph-Expr data set<br/>\n",
    "Name: BDGP cDNA clone data set<br/>\n",
    "Name: BDGP in situ data set<br/>\n",
    "Name: BioGRID interaction data set<br/>\n",
    "Name: Department of Genetics tiling path<br/>\n",
    "Name: DrosDel P-element and Deletion collection<br/>\n",
    "Name: Drosophila 12 Genomes Consortium homology<br/>\n",
    "Name: E-FLYC-6<br/>\n",
    "Name: Ensembl Anopheles gambiae [AgamP3.4]<br/>\n",
    "Name: FlyAtlas<br/>\n",
    "Name: FlyBase<br/>\n",
    "Name: FlyBase data set for Drosophila ananassae<br/>\n",
    "Name: FlyBase data set for Drosophila erecta<br/>\n",
    "Name: FlyBase data set for Drosophila grimshawi<br/>\n",
    "Name: FlyBase data set for Drosophila melanogaster<br/>\n",
    "Name: FlyBase data set for Drosophila mojavensis<br/>\n",
    "Name: FlyBase data set for Drosophila persimilis<br/>\n",
    "Name: FlyBase data set for Drosophila pseudoobscura pseudoobscura<br/>\n",
    "Name: FlyBase data set for Drosophila sechellia<br/>\n",
    "Name: FlyBase data set for Drosophila simulans<br/>\n",
    "Name: FlyBase data set for Drosophila virilis<br/>\n",
    "Name: FlyBase data set for Drosophila willistoni<br/>\n",
    "Name: FlyBase data set for Drosophila yakuba<br/>\n",
    "Name: FlyBase expression data<br/>\n",
    "Name: FlyBase fasta data set for Drosophila ananassae<br/>\n",
    "Name: FlyBase fasta data set for Drosophila erecta<br/>\n",
    "Name: FlyBase fasta data set for Drosophila grimshawi<br/>\n",
    "Name: FlyBase fasta data set for Drosophila melanogaster<br/>\n",
    "Name: FlyBase fasta data set for Drosophila mojavensis<br/>\n",
    "Name: FlyBase fasta data set for Drosophila persimilis<br/>\n",
    "Name: FlyBase fasta data set for Drosophila pseudoobscura pseudoobscura<br/>\n",
    "Name: FlyBase fasta data set for Drosophila sechellia<br/>\n",
    "Name: FlyBase fasta data set for Drosophila simulans<br/>\n",
    "Name: FlyBase fasta data set for Drosophila virilis<br/>\n",
    "Name: FlyBase fasta data set for Drosophila willistoni<br/>\n",
    "Name: FlyBase fasta data set for Drosophila yakuba<br/>\n",
    "Name: FlyMine intergenic regions<br/>\n",
    "Name: FlyReactome data set<br/>\n",
    "Name: FlyReg data set<br/>\n",
    "Name: GO Annotation from BHF-UCL<br/>\n",
    "Name: GO Annotation from CACAO<br/>\n",
    "Name: GO Annotation from FlyBase<br/>\n",
    "Name: GO Annotation from FlyBase<br/>\n",
    "Name: GO Annotation from GO_Central<br/>\n",
    "Name: GO Annotation from InterPro<br/>\n",
    "Name: GO Annotation from ParkinsonsUK-UCL<br/>\n",
    "Name: GO Annotation from UniProt<br/>\n",
    "Name: GO Annotation from YeastFunc<br/>\n",
    "Name: GenomeRNAi data set<br/>\n",
    "Name: HGNC identifiers<br/>\n",
    "Name: HomoloGene data set<br/>\n",
    "Name: INDAC long oligo data set<br/>\n",
    "Name: IntAct interactions data set<br/>\n",
    "Name: InterPro GO Annotation data set<br/>\n",
    "Name: InterPro data set<br/>\n",
    "Name: KEGG pathways data set<br/>\n",
    "Name: MGI identifiers<br/>\n",
    "Name: NCBI Entrez Gene identifiers<br/>\n",
    "Name: OMIM diseases<br/>\n",
    "Name: PDB dmel data set<br/>\n",
    "Name: Panther data set<br/>\n",
    "Name: PubMed to gene mapping<br/>\n",
    "Name: REDfly Drosophila transcription factor binding sites<br/>\n",
    "Name: REDfly Drosophila transcriptional cis-regulatory modules<br/>\n",
    "Name: RGD gene identifiers<br/>\n",
    "Name: Reactome pathways data set<br/>\n",
    "Name: Swiss-Prot data set<br/>\n",
    "Name: TrEMBL data set<br/>\n",
    "Name: TreeFam data set<br/>\n",
    "Name: UniProt data set<br/>\n",
    "Name: UniProt keywords data set<br/>\n",
    "Name: VectorBase AnoEST clusters<br/>\n",
    "Name: VectorBase Anopheles<br/>\n",
    "Name: WormBase genes<br/>\n",
    "Name: fly-Fish data set<br/>\n",
    "Name: miRBase Targets\n"
   ]
  }
 ],
 "metadata": {
  "kernelspec": {
   "display_name": "Python 3",
   "language": "python",
   "name": "python3"
  },
  "language_info": {
   "codemirror_mode": {
    "name": "ipython",
    "version": 3
   },
   "file_extension": ".py",
   "mimetype": "text/x-python",
   "name": "python",
   "nbconvert_exporter": "python",
   "pygments_lexer": "ipython3",
   "version": "3.6.9"
  }
 },
 "nbformat": 4,
 "nbformat_minor": 2
}
